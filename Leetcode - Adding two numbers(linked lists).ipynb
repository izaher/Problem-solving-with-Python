{
 "cells": [
  {
   "cell_type": "markdown",
   "metadata": {},
   "source": [
    "# Add Two Numbers:"
   ]
  },
  {
   "cell_type": "markdown",
   "metadata": {},
   "source": [
    "You are given two non-empty linked lists representing two non-negative integers. The digits are stored in reverse order, and each of their nodes contains a single digit. Add the two numbers and return the sum as a linked list.\n",
    "\n",
    "You may assume the two numbers do not contain any leading zero, except the number 0 itself.\n",
    "\n",
    " \n",
    "\n",
    "Example 1:<br>\n",
    "<img src=\"https://assets.leetcode.com/uploads/2020/10/02/addtwonumber1.jpg\">\n",
    "\n",
    "Input: l1 = [2,4,3], l2 = [5,6,4] <br>\n",
    "Output: [7,0,8]<br>\n",
    "Explanation: 342 + 465 = 807.<br>\n",
    "\n",
    "\n",
    "\n",
    "Example 2:<br>\n",
    "Input: l1 = [0], l2 = [0]<br>\n",
    "Output: [0]<br>\n",
    "\n",
    "\n",
    "\n",
    "Example 3:<br>\n",
    "Input: l1 = [9,9,9,9,9,9,9], l2 = [9,9,9,9]<br>\n",
    "Output: [8,9,9,9,0,0,0,1]<br>\n",
    " \n",
    " \n",
    "\n",
    "Constraints:\n",
    "\n",
    "The number of nodes in each linked list is in the range [1, 100].<br>\n",
    "0 <= Node.val <= 9<br>\n",
    "It is guaranteed that the list represents a number that does not have leading zeros.<br>"
   ]
  },
  {
   "cell_type": "markdown",
   "metadata": {},
   "source": [
    "## 1. Conversion:\n",
    "We can: <ol> <li>put the two linkedlists into two strings</li><br> <li>reverse the strings</li><br> <li>convert to integers</li><br> <li>Add the two integers</li><br> <li>Take the sum, reverse it, then put it back into a linked list</li><br>\n",
    "    </ol>\n",
    "\n",
    "### Time Complexity: O(n)\n",
    "  \n",
    "Although a linear complexity is not bad, the approach itself is complex and doesn't account for overflow."
   ]
  },
  {
   "cell_type": "markdown",
   "metadata": {},
   "source": [
    "## Porting Arithmetic:\n",
    "This is a much simpler, straightforward approach: <ul> <li>We'll start with two pointers, one at the head of each list</li><br>\n",
    "    <li>We sum the values of the nodes and insert them into a new linked list</li><br> <li>if the sum is larger than 10, we'll carry over 1. (0 =<i =<9, so the carry is either 1 or 0) </li><br>\n",
    "    <li>We move to the next nodes and repeat the process</li><br>\n",
    "    <li>If we reach the tail of the lists and we still have a carried number, we'll insert the number in a new node at the tail of our new list</li><br> \n",
    "    <li>If one list is longer than the other, then we'll add the vale of the exxtra nodes + carry at the end of our list</li><br>\n",
    "    </ul>\n",
    "### Time Complexity: O(n)\n",
    "\n",
    "this approach also guarantees a linear complexity. But, is much simpler, and we don't have to worry about overflow."
   ]
  },
  {
   "cell_type": "code",
   "execution_count": null,
   "metadata": {},
   "outputs": [],
   "source": [
    "#Code:\n",
    "class Solution:\n",
    "    def addTwoNumbers(self, l1: ListNode, l2: ListNode) -> ListNode:\n",
    "        dummy_head = ListNode(0)\n",
    "        l3 = dummy_head\n",
    "        carry = 0\n",
    "        while l1 and l2:\n",
    "            if l1:\n",
    "                l1_val = l1.val\n",
    "            else:\n",
    "                l1_val = 0\n",
    "            if l2:\n",
    "                l2_val = l2.val\n",
    "            else:\n",
    "                l2_val = 0\n",
    "            current_sum = l1_val + l2_val + carry\n",
    "            carry = current_sum //10\n",
    "            last_digit = current_sum%10\n",
    "            \n",
    "            new_node = ListNode(last_digit)\n",
    "            l3.next = new_node\n",
    "            \n",
    "            if l1:\n",
    "                l1 = l1.next\n",
    "                \n",
    "            if l2:\n",
    "                l2 = l2.next\n",
    "            l3= l3.next\n",
    "        if carry > 0:\n",
    "            new_node = ListNode(carry)\n",
    "            l3.next = new_node\n",
    "            l3 = l3.next\n",
    "            \n",
    "        return dummy_head.next"
   ]
  }
 ],
 "metadata": {
  "kernelspec": {
   "display_name": "Python 3",
   "language": "python",
   "name": "python3"
  },
  "language_info": {
   "codemirror_mode": {
    "name": "ipython",
    "version": 3
   },
   "file_extension": ".py",
   "mimetype": "text/x-python",
   "name": "python",
   "nbconvert_exporter": "python",
   "pygments_lexer": "ipython3",
   "version": "3.9.1"
  }
 },
 "nbformat": 4,
 "nbformat_minor": 4
}
