{
 "cells": [
  {
   "cell_type": "markdown",
   "metadata": {},
   "source": [
    "# Palindrome Number"
   ]
  },
  {
   "cell_type": "markdown",
   "metadata": {},
   "source": [
    "Determine whether an integer is a palindrome. An integer is a palindrome when it reads the same backward as forward.\n",
    "\n",
    "Follow up: Could you solve it without converting the integer to a string?\n",
    "\n",
    "  \n",
    "\n",
    "Example 1: <br>\n",
    "Input: x = 121<br>\n",
    "Output: true<br>\n",
    "\n",
    "\n",
    "Example 2:\n",
    "Input: x = -121<br>\n",
    "Output: false<br>\n",
    "Explanation: From left to right, it reads -121. From right to left, it becomes 121-. Therefore it is not a palindrome.\n",
    "\n",
    "\n",
    "\n",
    "Constraints:<br>\n",
    "-231 <= x <= 231 - 1"
   ]
  },
  {
   "cell_type": "markdown",
   "metadata": {},
   "source": [
    "## The Naive Approach(Strings):\n",
    "We can approach such problem by converting the integer into a string, reverse the sring, convert back to integer, check the original integer against the reversed. But, we can also aply the much easier Mathematical approach we used in the <a href=\"https://github.com/izaher/Problem-solving-with-Python/blob/main/Leetcode-%20Reverse%20integer.ipynb\">Reverse integer problem<a>"
   ]
  },
  {
   "cell_type": "markdown",
   "metadata": {},
   "source": [
    "## The mathematical aproach:\n",
    "<ul>\n",
    "    <li><strong>Isolate the last digit in number<br></strong>\n",
    "    (lastDigit = number % 10)<br>\n",
    "The modulo operator (%) returns the remainder of a divison. In this case, we divide number by 10 and return the remainder. Consider the integer 1234. The tens column (30) is divided by 10 without remainder, the hundreds column (200) as well, and also the thousands column (1000). The remainder of the division will be 4 representing the ones column which could not be divided by 10. We now have the means to isolate the last digit of any integer. We save this in the variable lastDigit.</li><br>\n",
    "    <li><strong>Append lastDigit to reverse<br></strong>\n",
    "(reverse = (reverse * 10) + lastDigit)<br>\n",
    "We can start building the reversed number now by appending lastDigit onto the end of reverse. Remember that both of these variables are integers so we can not simply concatenate. We multiply reverse by 10 so that the ones column becomes the tens column, the tens column becomes the hundreds column, and so on. This also leaves us with a new ones column where we can add our lastDigit.</li><br>\n",
    "    <li><strong>Remove last digit from number<br></strong>\n",
    "(number = number / 10)<br>\n",
    "To remove the last digit from number we divide it by 10. This works because we are performing integer division which rounds results down to the nearest integer (ex. 244 / 10 = 24).</li><br>\n",
    "    <li><strong>Iterate<br></strong>\n",
    "while (number > 0)<br>\n",
    "Repeat this process until number is reduced to zero and reverse is completed.</li><br>\n",
    "    <li>Next, we compare the original number to the reversed number.</li>\n",
    "</ul>"
   ]
  },
  {
   "cell_type": "code",
   "execution_count": 13,
   "metadata": {},
   "outputs": [],
   "source": [
    "class Solution:\n",
    "    def isPalindrome(self, x):\n",
    "        temp=x\n",
    "        rev=0\n",
    "        rev_num = 0\n",
    "        num = abs(x)\n",
    "        while num > 0:\n",
    "            rev_num = (rev_num*10) + (num%10)\n",
    "            num = num // 10\n",
    "        return True if rev_num == temp else False\n",
    "            "
   ]
  },
  {
   "cell_type": "code",
   "execution_count": 16,
   "metadata": {},
   "outputs": [
    {
     "name": "stdout",
     "output_type": "stream",
     "text": [
      "False\n",
      "True\n",
      "False\n"
     ]
    }
   ],
   "source": [
    "test_case =Solution()\n",
    "print(test_case.isPalindrome(1251))\n",
    "print(test_case.isPalindrome(121))\n",
    "print(test_case.isPalindrome(-121))"
   ]
  }
 ],
 "metadata": {
  "kernelspec": {
   "display_name": "Python 3",
   "language": "python",
   "name": "python3"
  },
  "language_info": {
   "codemirror_mode": {
    "name": "ipython",
    "version": 3
   },
   "file_extension": ".py",
   "mimetype": "text/x-python",
   "name": "python",
   "nbconvert_exporter": "python",
   "pygments_lexer": "ipython3",
   "version": "3.9.1"
  }
 },
 "nbformat": 4,
 "nbformat_minor": 4
}
