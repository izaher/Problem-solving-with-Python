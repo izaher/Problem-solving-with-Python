{
 "cells": [
  {
   "cell_type": "markdown",
   "metadata": {},
   "source": [
    "# LeetCode: Two Sums"
   ]
  },
  {
   "cell_type": "markdown",
   "metadata": {},
   "source": [
    "## Question: \n",
    "Given an array of integers nums and an integer target, return indices of the two numbers such that they add up to target.\n",
    "\n",
    "You may assume that each input would have exactly one solution, and you may not use the same element twice.\n",
    "\n",
    "You can return the answer in any order.\n",
    "\n",
    "\n",
    "Input: nums = [2,7,11,15], target = 9\n",
    "Output: [0,1]\n",
    "Output: Because nums[0] + nums[1] == 9, we return [0, 1].\n",
    "Example 2:\n",
    "\n",
    "Input: nums = [3,2,4], target = 6\n",
    "Output: [1,2]\n",
    "Example 3:\n",
    "\n",
    "Input: nums = [3,3], target = 6\n",
    "Output: [0,1]\n",
    " \n",
    "\n",
    "Constraints:\n",
    "\n",
    "2 <= nums.length <= 10^3\n",
    "-10^9 <= nums[i] <= 10^9\n",
    "-10^9 <= target <= 10^9\n",
    "Only one valid answer exists."
   ]
  },
  {
   "cell_type": "markdown",
   "metadata": {},
   "source": [
    "\n",
    "## 1-Brute force:\n",
    "    loop through each number and then loop again through the array looking for a pair that sums to S. \n",
    "    \n",
    "### Time Complexity: O(n^2)\n",
    "    "
   ]
  },
  {
   "cell_type": "code",
   "execution_count": 9,
   "metadata": {},
   "outputs": [],
   "source": [
    "##Code:\n",
    "class Solution1:\n",
    "    def twoSum(self, nums, target):\n",
    "            for i, a in enumerate(nums, start=0):\n",
    "                for j, b in enumerate(nums[i+1:], start=0):\n",
    "                    if a+b==target:\n",
    "                        return [i, j+i+1]\n"
   ]
  },
  {
   "cell_type": "code",
   "execution_count": 10,
   "metadata": {},
   "outputs": [
    {
     "name": "stdout",
     "output_type": "stream",
     "text": [
      "[1, 2]\n",
      "[0, 1]\n",
      "[0, 1]\n"
     ]
    }
   ],
   "source": [
    "test_case = Solution()\n",
    "array = [3, 2, 4]\n",
    "print(test_case.twoSum(array, 6))\n",
    "\n",
    "array = [1, 5, 7]\n",
    "print(test_case.twoSum(array, 6))\n",
    "\n",
    "array = [2, 7, 11, 15]\n",
    "print(test_case.twoSum(array, 9))\n"
   ]
  },
  {
   "cell_type": "code",
   "execution_count": 7,
   "metadata": {
    "scrolled": true
   },
   "outputs": [
    {
     "name": "stdout",
     "output_type": "stream",
     "text": [
      "94.2 ns ± 1.2 ns per loop (mean ± std. dev. of 7 runs, 10000000 loops each)\n"
     ]
    }
   ],
   "source": [
    "%timeit Solution()\n"
   ]
  },
  {
   "cell_type": "markdown",
   "metadata": {},
   "source": [
    "## 2-Hash maps\n",
    "\n",
    "We can write a faster algorithm that will find pairs that sum to S in linear time. The algorithm makes use of hash tables which have a constant lookup time. As we pass through each element in the array, we check to see if S minus the current element exists in the hash table. \n",
    "\n",
    "Example\n",
    "\n",
    "If the array is: [4, 5, 1, 8] and the sum is 6 the algorithm would proceed with the steps below:\n",
    "\n",
    "(1) The hash table is initially empty and the first element in the array is 4. We simply put 4 into the hash table.\n",
    "\n",
    "(2) The next element is 5. We check to see if the sum minus the current element exists in the hash table. 6 - 5 = 1 does not exist in the hash table. So add 5 to the hash table.\n",
    "\n",
    "(3) The next element is 1. We check to see if the sum minus the current element exists in the hash table. 6 - 1 = 5 does exist in the hash table so we found a pair!\n",
    "\n",
    "### Time Complexity: O(n)\n",
    "We only need to loop through the array once, resulting in a running time of O(n) since each lookup and insertion in a hash table is O(1)."
   ]
  },
  {
   "cell_type": "code",
   "execution_count": 11,
   "metadata": {},
   "outputs": [],
   "source": [
    "##Code:\n",
    "class Solution:\n",
    "    def twoSum(self, nums, target):\n",
    "        comps = dict()        \n",
    "        for i in range(len(nums)):  \n",
    "            comp = target - nums[i]\n",
    "            if nums[i] in comps:\n",
    "                return [comps[nums[i]], i]\n",
    "            else:\n",
    "                comps[comp] = i"
   ]
  },
  {
   "cell_type": "code",
   "execution_count": 12,
   "metadata": {},
   "outputs": [
    {
     "name": "stdout",
     "output_type": "stream",
     "text": [
      "[1, 2]\n",
      "[0, 1]\n",
      "[0, 1]\n"
     ]
    }
   ],
   "source": [
    "test_case = Solution()\n",
    "array = [3, 2, 4]\n",
    "print(test_case.twoSum(array, 6))\n",
    "\n",
    "array = [1, 5, 7]\n",
    "print(test_case.twoSum(array, 6))\n",
    "\n",
    "array = [2, 7, 11, 15]\n",
    "print(test_case.twoSum(array, 9))"
   ]
  },
  {
   "cell_type": "code",
   "execution_count": 13,
   "metadata": {},
   "outputs": [
    {
     "name": "stdout",
     "output_type": "stream",
     "text": [
      "92.9 ns ± 0.356 ns per loop (mean ± std. dev. of 7 runs, 10000000 loops each)\n"
     ]
    }
   ],
   "source": [
    "%timeit Solution()"
   ]
  },
  {
   "cell_type": "markdown",
   "metadata": {},
   "source": [
    "## 3-Binary search\n",
    "\n",
    "Start with two pointers - one initialized to array[0] and the other array[length-1]. Then check the sums; if the sum is > S, decrement the right pointer. If it is < S, increment the left pointer.\n",
    "\n",
    "###  Time complexity:O(logn)\n"
   ]
  },
  {
   "cell_type": "code",
   "execution_count": 25,
   "metadata": {},
   "outputs": [],
   "source": [
    "##Code:\n",
    "class Solution:\n",
    "    def twoSum(self, nums, target):\n",
    "        left, right = 0, len(nums) - 1\n",
    "        while left < right:\n",
    "            if nums[left] + nums[right] == target:\n",
    "                return [left, right]\n",
    "            elif nums[left] + nums[right] < target:\n",
    "                left += 1\n",
    "            elif nums[left] + nums[right] > target:\n",
    "                right -= 1"
   ]
  },
  {
   "cell_type": "code",
   "execution_count": 26,
   "metadata": {},
   "outputs": [
    {
     "name": "stdout",
     "output_type": "stream",
     "text": [
      "None\n",
      "[0, 1]\n",
      "[0, 1]\n"
     ]
    }
   ],
   "source": [
    "test_case = Solution()\n",
    "array = [3, 2, 4]\n",
    "print(test_case.twoSum(array, 6))\n",
    "\n",
    "array = [1, 5, 7]\n",
    "print(test_case.twoSum(array, 6))\n",
    "\n",
    "array = [2, 7, 11, 15]\n",
    "print(test_case.twoSum(array, 9))"
   ]
  },
  {
   "cell_type": "code",
   "execution_count": 27,
   "metadata": {},
   "outputs": [
    {
     "name": "stdout",
     "output_type": "stream",
     "text": [
      "92.1 ns ± 0.113 ns per loop (mean ± std. dev. of 7 runs, 10000000 loops each)\n"
     ]
    }
   ],
   "source": [
    "%timeit Solution()"
   ]
  },
  {
   "cell_type": "markdown",
   "metadata": {},
   "source": [
    "### Notice:\n",
    "for the first test case the algorithm failed to give an answer because the array isn't sorted. So we need to sort the given array before running the algorith. But, keep in mind that sorting an array takes (nlogn) time."
   ]
  }
 ],
 "metadata": {
  "kernelspec": {
   "display_name": "Python 3",
   "language": "python",
   "name": "python3"
  },
  "language_info": {
   "codemirror_mode": {
    "name": "ipython",
    "version": 3
   },
   "file_extension": ".py",
   "mimetype": "text/x-python",
   "name": "python",
   "nbconvert_exporter": "python",
   "pygments_lexer": "ipython3",
   "version": "3.9.1"
  }
 },
 "nbformat": 4,
 "nbformat_minor": 4
}
