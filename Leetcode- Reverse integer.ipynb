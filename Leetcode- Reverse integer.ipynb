{
 "cells": [
  {
   "cell_type": "markdown",
   "metadata": {},
   "source": [
    "# LeetCode: Reverse an Integer"
   ]
  },
  {
   "cell_type": "markdown",
   "metadata": {},
   "source": [
    "Given a 32-bit signed integer, reverse digits of an integer.\n",
    "\n",
    "Note:\n",
    "Assume we are dealing with an environment that could only store integers within the 32-bit signed integer range: [−231,  231 − 1]. For the purpose of this problem, assume that your function returns 0 when the reversed integer overflows."
   ]
  },
  {
   "cell_type": "markdown",
   "metadata": {},
   "source": [
    "Example 1:<br>\n",
    "Input: x = 123<br>\n",
    "Output: 321\n",
    "\n",
    "Example 2:<br>\n",
    "Input: x = -123<br>\n",
    "Output: -321\n",
    "\n",
    "Example 3:<br>\n",
    "Input: x = 120<br>\n",
    "Output: 21\n",
    "\n",
    "Example 4:<br>\n",
    "Input: x = 0<br>\n",
    "Output: 0\n",
    " \n",
    "\n",
    "Constraints:<br>\n",
    "-231 <= x <= 231 - 1"
   ]
  },
  {
   "cell_type": "markdown",
   "metadata": {},
   "source": [
    "## Using lists:\n",
    "\n",
    "Theoretically, we can reverse an integer by applying the following steps:\n",
    "\n",
    "<ul>\n",
    " <li>Convert the Integer to a string</li>\n",
    "<li>Create an array of characters from the string</li>\n",
    "<li>Reverse the array</li>\n",
    "<li>Join the reversed array to form a new string</li>\n",
    "<li>Convert the reversed string back into an integer</li>\n",
    "<li>Add the sign that corresponds with the received integer</li>\n",
    "<li>Return the result</li>\n",
    "</ul>\n",
    "\n",
    "Complexity: O(n)"
   ]
  },
  {
   "cell_type": "code",
   "execution_count": 1,
   "metadata": {
    "scrolled": true
   },
   "outputs": [],
   "source": [
    "#Code:\n",
    "class Solution:\n",
    "    def reverse(self, x):\n",
    "        num = abs(x)\n",
    "        num = [int(i) for i in str(num)] \n",
    "        num.reverse()\n",
    "        num = map(str, num)  \n",
    "        rev_num = int(''.join(num))\n",
    "        return rev_num if x > 0 else rev_num * -1\n",
    "        "
   ]
  },
  {
   "cell_type": "code",
   "execution_count": 2,
   "metadata": {
    "scrolled": true
   },
   "outputs": [
    {
     "name": "stdout",
     "output_type": "stream",
     "text": [
      "654321\n",
      "-88798\n",
      "714548\n"
     ]
    }
   ],
   "source": [
    "test_case = Solution()\n",
    "number = 123456\n",
    "print(test_case.reverse(number))\n",
    "\n",
    "number = -89788\n",
    "print(test_case.reverse(number))\n",
    "\n",
    "number = 845417\n",
    "print(test_case.reverse(number))"
   ]
  },
  {
   "cell_type": "code",
   "execution_count": 3,
   "metadata": {},
   "outputs": [
    {
     "name": "stdout",
     "output_type": "stream",
     "text": [
      "90.9 ns ± 1.12 ns per loop (mean ± std. dev. of 7 runs, 10000000 loops each)\n"
     ]
    }
   ],
   "source": [
    "%timeit Solution()"
   ]
  },
  {
   "cell_type": "markdown",
   "metadata": {},
   "source": [
    "<strong> BUT</strong>, there's a catch: \n",
    "<br>\n",
    "The problem clearly states that <strong>\"we are dealing with an environment that could only store integers within the 32-bit signed integer range: [−231, 231 − 1]\" </strong>\n",
    "<br>\n",
    "So, we have to adopt another solution, the mathematical solution.."
   ]
  },
  {
   "cell_type": "markdown",
   "metadata": {},
   "source": [
    "## The mathematical aproach:\n",
    "<ul>\n",
    "    <li><strong>Isolate the last digit in number<br></strong>\n",
    "    (lastDigit = number % 10)<br>\n",
    "The modulo operator (%) returns the remainder of a divison. In this case, we divide number by 10 and return the remainder. Consider the integer 1234. The tens column (30) is divided by 10 without remainder, the hundreds column (200) as well, and also the thousands column (1000). The remainder of the division will be 4 representing the ones column which could not be divided by 10. We now have the means to isolate the last digit of any integer. We save this in the variable lastDigit.</li><br>\n",
    "    <li><strong>Append lastDigit to reverse<br></strong>\n",
    "(reverse = (reverse * 10) + lastDigit)<br>\n",
    "We can start building the reversed number now by appending lastDigit onto the end of reverse. Remember that both of these variables are integers so we can not simply concatenate. We multiply reverse by 10 so that the ones column becomes the tens column, the tens column becomes the hundreds column, and so on. This also leaves us with a new ones column where we can add our lastDigit.</li><br>\n",
    "    <li><strong>Remove last digit from number<br></strong>\n",
    "(number = number / 10)<br>\n",
    "To remove the last digit from number we divide it by 10. This works because we are performing integer division which rounds results down to the nearest integer (ex. 244 / 10 = 24).</li><br>\n",
    "    <li><strong>Iterate<br></strong>\n",
    "while (number > 0)<br>\n",
    "Repeat this process until number is reduced to zero and reverse is completed.</li><br>\n",
    "    <li>Next, we account for the negative numbers by adding th sign to the reversed number.</li>\n",
    "    <li>Finally, we make sure that the function returns 0 if the reversed integer overflows</li>\n",
    "</ul>"
   ]
  },
  {
   "cell_type": "markdown",
   "metadata": {},
   "source": [
    "'''\n",
    "Input:  num\n",
    "(1) Initialize rev_num = 0\n",
    "(2) Loop while num > 0\n",
    "     (a) Multiply rev_num by 10 and add remainder of num  \n",
    "          divide by 10 to rev_num\n",
    "               rev_num = rev_num*10 + num%10;\n",
    "     (b) Divide num by 10\n",
    "(3) Return rev_num\n",
    "'''"
   ]
  },
  {
   "cell_type": "code",
   "execution_count": 4,
   "metadata": {},
   "outputs": [],
   "source": [
    "#Code:\n",
    "class Solution:\n",
    "    def reverse(self, x):\n",
    "        rev_num = 0\n",
    "        num = abs(x)\n",
    "        while num > 0:\n",
    "            rev_num = (rev_num*10) + (num%10)\n",
    "            num = num // 10\n",
    "            \n",
    "        if rev_num>=(2**31)-1:\n",
    "            return 0\n",
    "        return rev_num if x > 0 else rev_num*-1\n",
    "        "
   ]
  },
  {
   "cell_type": "code",
   "execution_count": 5,
   "metadata": {},
   "outputs": [
    {
     "name": "stdout",
     "output_type": "stream",
     "text": [
      "654321\n",
      "-88798\n",
      "714548\n"
     ]
    }
   ],
   "source": [
    "test_case = Solution()\n",
    "number = 123456\n",
    "print(test_case.reverse(number))\n",
    "\n",
    "number = -89788\n",
    "print(test_case.reverse(number))\n",
    "\n",
    "number = 845417\n",
    "print(test_case.reverse(number))"
   ]
  },
  {
   "cell_type": "code",
   "execution_count": 6,
   "metadata": {},
   "outputs": [
    {
     "name": "stdout",
     "output_type": "stream",
     "text": [
      "90.8 ns ± 1.06 ns per loop (mean ± std. dev. of 7 runs, 10000000 loops each)\n"
     ]
    }
   ],
   "source": [
    "%timeit Solution()"
   ]
  }
 ],
 "metadata": {
  "kernelspec": {
   "display_name": "Python 3",
   "language": "python",
   "name": "python3"
  },
  "language_info": {
   "codemirror_mode": {
    "name": "ipython",
    "version": 3
   },
   "file_extension": ".py",
   "mimetype": "text/x-python",
   "name": "python",
   "nbconvert_exporter": "python",
   "pygments_lexer": "ipython3",
   "version": "3.9.1"
  }
 },
 "nbformat": 4,
 "nbformat_minor": 4
}
